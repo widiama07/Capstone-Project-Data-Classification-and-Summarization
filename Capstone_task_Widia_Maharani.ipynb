{
  "nbformat": 4,
  "nbformat_minor": 0,
  "metadata": {
    "colab": {
      "provenance": []
    },
    "kernelspec": {
      "name": "python3",
      "display_name": "Python 3"
    },
    "language_info": {
      "name": "python"
    }
  },
  "cells": [
    {
      "cell_type": "markdown",
      "source": [
        "## **Data Classification**"
      ],
      "metadata": {
        "id": "btCH_hObie1V"
      }
    },
    {
      "cell_type": "markdown",
      "source": [
        "Gofood merupakan aplikasi delivery food yang populer di Indonesia. Dilansir dari DataIndonesia.id yang bersumber dari laporan Momentum Works, Indonesia tercatat sebagai negara pertama di Asia Tenggara yang paling banyak melakukan layanan pesan-antar makanan di Asia Tenggara. Dimana nilai penjualan bruto Indonesia adalah senilai 4,6 miliar US$ tahun 2023.\n",
        "\n",
        "Dengan tingginya tingkat penggunaan layanan pesan-antar makanan di Indonesia, memahami kebutuhan, keluhan, dan preferensi pelanggan dari data ini menjadi kunci untuk meningkatkan kualitas layanan, merancang strategi promosi yang lebih efektif, serta mengidentifikasi peluang inovasi produk dan fitur aplikasi.\n",
        "\n",
        "Oleh karena itu, data ulasan pelanggan GoFood penting untuk dianalisis karena mencerminkan persepsi dan pengalaman langsung pengguna terhadap layanan digital yang semakin berkembang di era ekonomi berbasis platform."
      ],
      "metadata": {
        "id": "1OAu1fY0jwOz"
      }
    },
    {
      "cell_type": "markdown",
      "source": [
        "**Install Library**"
      ],
      "metadata": {
        "id": "Dza0KkWToV6_"
      }
    },
    {
      "cell_type": "markdown",
      "source": [
        "*Menginstal library pendukung agar dapat menjalankan model AI (seperti klasifikasi dan rangkuman teks) secara langsung dari kode Python melalui layanan pihak ketiga seperti Replicate.*"
      ],
      "metadata": {
        "id": "5Zg-1o0ljObO"
      }
    },
    {
      "cell_type": "code",
      "execution_count": null,
      "metadata": {
        "id": "OB-j1YoN8h1l"
      },
      "outputs": [],
      "source": [
        "!pip install langchain_community\n",
        "!pip install replicate"
      ]
    },
    {
      "cell_type": "code",
      "source": [
        "from langchain_community.llms import Replicate\n",
        "import os\n",
        "from google.colab import userdata\n",
        "# Set the API token\n",
        "api_token = userdata.get('REPLICATE_API_TOKEN')\n",
        "os.environ[\"REPLICATE_API_TOKEN\"] = api_token\n",
        "# Model setup\n",
        "model = \"ibm-granite/granite-3.3-8b-instruct\"\n",
        "output = Replicate(\n",
        "model=model,\n",
        "replicate_api_token=api_token,\n",
        ")"
      ],
      "metadata": {
        "id": "YCCTdSjC8xWG"
      },
      "execution_count": null,
      "outputs": []
    },
    {
      "cell_type": "markdown",
      "source": [
        "**Import Dataset**\n"
      ],
      "metadata": {
        "id": "5tSSPNU885jO"
      }
    },
    {
      "cell_type": "code",
      "source": [
        "from google.colab import files\n",
        "uploaded = files.upload()"
      ],
      "metadata": {
        "colab": {
          "base_uri": "https://localhost:8080/",
          "height": 73
        },
        "id": "IACHqScC8_Qj",
        "outputId": "6c12214a-3583-4a4c-c76d-1f352e0c40c9"
      },
      "execution_count": null,
      "outputs": [
        {
          "output_type": "display_data",
          "data": {
            "text/plain": [
              "<IPython.core.display.HTML object>"
            ],
            "text/html": [
              "\n",
              "     <input type=\"file\" id=\"files-ae9f97e7-44bf-4c8f-9b37-6c2164d9eeb4\" name=\"files[]\" multiple disabled\n",
              "        style=\"border:none\" />\n",
              "     <output id=\"result-ae9f97e7-44bf-4c8f-9b37-6c2164d9eeb4\">\n",
              "      Upload widget is only available when the cell has been executed in the\n",
              "      current browser session. Please rerun this cell to enable.\n",
              "      </output>\n",
              "      <script>// Copyright 2017 Google LLC\n",
              "//\n",
              "// Licensed under the Apache License, Version 2.0 (the \"License\");\n",
              "// you may not use this file except in compliance with the License.\n",
              "// You may obtain a copy of the License at\n",
              "//\n",
              "//      http://www.apache.org/licenses/LICENSE-2.0\n",
              "//\n",
              "// Unless required by applicable law or agreed to in writing, software\n",
              "// distributed under the License is distributed on an \"AS IS\" BASIS,\n",
              "// WITHOUT WARRANTIES OR CONDITIONS OF ANY KIND, either express or implied.\n",
              "// See the License for the specific language governing permissions and\n",
              "// limitations under the License.\n",
              "\n",
              "/**\n",
              " * @fileoverview Helpers for google.colab Python module.\n",
              " */\n",
              "(function(scope) {\n",
              "function span(text, styleAttributes = {}) {\n",
              "  const element = document.createElement('span');\n",
              "  element.textContent = text;\n",
              "  for (const key of Object.keys(styleAttributes)) {\n",
              "    element.style[key] = styleAttributes[key];\n",
              "  }\n",
              "  return element;\n",
              "}\n",
              "\n",
              "// Max number of bytes which will be uploaded at a time.\n",
              "const MAX_PAYLOAD_SIZE = 100 * 1024;\n",
              "\n",
              "function _uploadFiles(inputId, outputId) {\n",
              "  const steps = uploadFilesStep(inputId, outputId);\n",
              "  const outputElement = document.getElementById(outputId);\n",
              "  // Cache steps on the outputElement to make it available for the next call\n",
              "  // to uploadFilesContinue from Python.\n",
              "  outputElement.steps = steps;\n",
              "\n",
              "  return _uploadFilesContinue(outputId);\n",
              "}\n",
              "\n",
              "// This is roughly an async generator (not supported in the browser yet),\n",
              "// where there are multiple asynchronous steps and the Python side is going\n",
              "// to poll for completion of each step.\n",
              "// This uses a Promise to block the python side on completion of each step,\n",
              "// then passes the result of the previous step as the input to the next step.\n",
              "function _uploadFilesContinue(outputId) {\n",
              "  const outputElement = document.getElementById(outputId);\n",
              "  const steps = outputElement.steps;\n",
              "\n",
              "  const next = steps.next(outputElement.lastPromiseValue);\n",
              "  return Promise.resolve(next.value.promise).then((value) => {\n",
              "    // Cache the last promise value to make it available to the next\n",
              "    // step of the generator.\n",
              "    outputElement.lastPromiseValue = value;\n",
              "    return next.value.response;\n",
              "  });\n",
              "}\n",
              "\n",
              "/**\n",
              " * Generator function which is called between each async step of the upload\n",
              " * process.\n",
              " * @param {string} inputId Element ID of the input file picker element.\n",
              " * @param {string} outputId Element ID of the output display.\n",
              " * @return {!Iterable<!Object>} Iterable of next steps.\n",
              " */\n",
              "function* uploadFilesStep(inputId, outputId) {\n",
              "  const inputElement = document.getElementById(inputId);\n",
              "  inputElement.disabled = false;\n",
              "\n",
              "  const outputElement = document.getElementById(outputId);\n",
              "  outputElement.innerHTML = '';\n",
              "\n",
              "  const pickedPromise = new Promise((resolve) => {\n",
              "    inputElement.addEventListener('change', (e) => {\n",
              "      resolve(e.target.files);\n",
              "    });\n",
              "  });\n",
              "\n",
              "  const cancel = document.createElement('button');\n",
              "  inputElement.parentElement.appendChild(cancel);\n",
              "  cancel.textContent = 'Cancel upload';\n",
              "  const cancelPromise = new Promise((resolve) => {\n",
              "    cancel.onclick = () => {\n",
              "      resolve(null);\n",
              "    };\n",
              "  });\n",
              "\n",
              "  // Wait for the user to pick the files.\n",
              "  const files = yield {\n",
              "    promise: Promise.race([pickedPromise, cancelPromise]),\n",
              "    response: {\n",
              "      action: 'starting',\n",
              "    }\n",
              "  };\n",
              "\n",
              "  cancel.remove();\n",
              "\n",
              "  // Disable the input element since further picks are not allowed.\n",
              "  inputElement.disabled = true;\n",
              "\n",
              "  if (!files) {\n",
              "    return {\n",
              "      response: {\n",
              "        action: 'complete',\n",
              "      }\n",
              "    };\n",
              "  }\n",
              "\n",
              "  for (const file of files) {\n",
              "    const li = document.createElement('li');\n",
              "    li.append(span(file.name, {fontWeight: 'bold'}));\n",
              "    li.append(span(\n",
              "        `(${file.type || 'n/a'}) - ${file.size} bytes, ` +\n",
              "        `last modified: ${\n",
              "            file.lastModifiedDate ? file.lastModifiedDate.toLocaleDateString() :\n",
              "                                    'n/a'} - `));\n",
              "    const percent = span('0% done');\n",
              "    li.appendChild(percent);\n",
              "\n",
              "    outputElement.appendChild(li);\n",
              "\n",
              "    const fileDataPromise = new Promise((resolve) => {\n",
              "      const reader = new FileReader();\n",
              "      reader.onload = (e) => {\n",
              "        resolve(e.target.result);\n",
              "      };\n",
              "      reader.readAsArrayBuffer(file);\n",
              "    });\n",
              "    // Wait for the data to be ready.\n",
              "    let fileData = yield {\n",
              "      promise: fileDataPromise,\n",
              "      response: {\n",
              "        action: 'continue',\n",
              "      }\n",
              "    };\n",
              "\n",
              "    // Use a chunked sending to avoid message size limits. See b/62115660.\n",
              "    let position = 0;\n",
              "    do {\n",
              "      const length = Math.min(fileData.byteLength - position, MAX_PAYLOAD_SIZE);\n",
              "      const chunk = new Uint8Array(fileData, position, length);\n",
              "      position += length;\n",
              "\n",
              "      const base64 = btoa(String.fromCharCode.apply(null, chunk));\n",
              "      yield {\n",
              "        response: {\n",
              "          action: 'append',\n",
              "          file: file.name,\n",
              "          data: base64,\n",
              "        },\n",
              "      };\n",
              "\n",
              "      let percentDone = fileData.byteLength === 0 ?\n",
              "          100 :\n",
              "          Math.round((position / fileData.byteLength) * 100);\n",
              "      percent.textContent = `${percentDone}% done`;\n",
              "\n",
              "    } while (position < fileData.byteLength);\n",
              "  }\n",
              "\n",
              "  // All done.\n",
              "  yield {\n",
              "    response: {\n",
              "      action: 'complete',\n",
              "    }\n",
              "  };\n",
              "}\n",
              "\n",
              "scope.google = scope.google || {};\n",
              "scope.google.colab = scope.google.colab || {};\n",
              "scope.google.colab._files = {\n",
              "  _uploadFiles,\n",
              "  _uploadFilesContinue,\n",
              "};\n",
              "})(self);\n",
              "</script> "
            ]
          },
          "metadata": {}
        },
        {
          "output_type": "stream",
          "name": "stdout",
          "text": [
            "Saving gofoodreviews.csv to gofoodreviews.csv\n"
          ]
        }
      ]
    },
    {
      "cell_type": "code",
      "source": [
        "import pandas as pd\n",
        "df = pd.read_csv(\"gofoodreviews.csv\")\n",
        "print(df)\n",
        "\n",
        "\n"
      ],
      "metadata": {
        "colab": {
          "base_uri": "https://localhost:8080/"
        },
        "id": "KxC8thiFAyTj",
        "outputId": "3771fb51-959b-4634-eff4-8b7d0eaf84f5"
      },
      "execution_count": null,
      "outputs": [
        {
          "output_type": "stream",
          "name": "stdout",
          "text": [
            "                        datetime                   id         username  \\\n",
            "0      2022-06-29 23:59:54+00:00  1542296835255324673          NibobaB   \n",
            "1      2022-06-29 23:56:41+00:00  1542296024345346048  Agungseptyanto_   \n",
            "2      2022-06-29 23:55:36+00:00  1542295750897733633        bibime_cc   \n",
            "3      2022-06-29 23:49:19+00:00  1542294170483556352  skskskskkkskskk   \n",
            "4      2022-06-29 23:42:29+00:00  1542292450261303299   404Loc_Unknown   \n",
            "...                          ...                  ...              ...   \n",
            "28758  2022-06-01 00:19:52+00:00  1531792611161219072   ratiyulyanaptr   \n",
            "28759  2022-06-01 00:14:19+00:00  1531791213535596544         mbulkola   \n",
            "28760  2022-06-01 00:11:22+00:00  1531790471298940928     sigdenifikan   \n",
            "28761  2022-06-01 00:06:39+00:00  1531789284448997377          0xwinow   \n",
            "28762  2022-06-01 00:06:08+00:00  1531789156338511872        jungjaees   \n",
            "\n",
            "                                                   tweet  \n",
            "0      Ada MENU BARU di Ni Boba Brawijaya\\n\\nWaffle E...  \n",
            "1      @txtdrbekasi Cobain frisco burger. Di daerah p...  \n",
            "2      Pengin nasi uduk, mager jalan.\\n*buka gofood, ...  \n",
            "3      -Aku gofood in ya biar gausa keluar sendirian\\...  \n",
            "4      @Odlstrn Ih disni banyaaaaaaakk. Tp pas pingin...  \n",
            "...                                                  ...  \n",
            "28758  @cudble @pengwinningg @skipberat Pickup di gof...  \n",
            "28759  need voucher gofood pls\\nYg udah go+ #zonajaja...  \n",
            "28760  @tidaksemampai @gofoodindonesia Sering banget ...  \n",
            "28761  wtb / need voucher gofood minbel tinggi, yang ...  \n",
            "28762  wtb voc/voucher gofood, udah g+ dan ada saldo ...  \n",
            "\n",
            "[28763 rows x 4 columns]\n"
          ]
        }
      ]
    },
    {
      "cell_type": "code",
      "source": [
        "df = pd.read_csv(\"gofoodreviews.csv\")\n",
        "print(df.columns)"
      ],
      "metadata": {
        "colab": {
          "base_uri": "https://localhost:8080/"
        },
        "id": "JdpYaCouBs7y",
        "outputId": "0a434fe1-03d4-488e-d96d-069c830d5d58"
      },
      "execution_count": null,
      "outputs": [
        {
          "output_type": "stream",
          "name": "stdout",
          "text": [
            "Index(['datetime', 'id', 'username', 'tweet'], dtype='object')\n"
          ]
        }
      ]
    },
    {
      "cell_type": "markdown",
      "source": [
        "*install library emoji*"
      ],
      "metadata": {
        "id": "BlDWrGc6xkMD"
      }
    },
    {
      "cell_type": "code",
      "source": [
        "!pip install emoji --quiet"
      ],
      "metadata": {
        "colab": {
          "base_uri": "https://localhost:8080/"
        },
        "id": "U_V0F4-WvTlE",
        "outputId": "5b99f7af-7920-441f-c5e7-fd05dc0aa9e8"
      },
      "execution_count": null,
      "outputs": [
        {
          "output_type": "stream",
          "name": "stdout",
          "text": [
            "\u001b[?25l   \u001b[90m━━━━━━━━━━━━━━━━━━━━━━━━━━━━━━━━━━━━━━━━\u001b[0m \u001b[32m0.0/590.6 kB\u001b[0m \u001b[31m?\u001b[0m eta \u001b[36m-:--:--\u001b[0m\r\u001b[2K   \u001b[91m━━━━━━━━━\u001b[0m\u001b[91m╸\u001b[0m\u001b[90m━━━━━━━━━━━━━━━━━━━━━━━━━━━━━━\u001b[0m \u001b[32m143.4/590.6 kB\u001b[0m \u001b[31m4.1 MB/s\u001b[0m eta \u001b[36m0:00:01\u001b[0m\r\u001b[2K   \u001b[91m━━━━━━━━━━━━━━━━━━━━━━━━━━━━━━━━━━━━━━━\u001b[0m\u001b[91m╸\u001b[0m \u001b[32m583.7/590.6 kB\u001b[0m \u001b[31m10.3 MB/s\u001b[0m eta \u001b[36m0:00:01\u001b[0m\r\u001b[2K   \u001b[90m━━━━━━━━━━━━━━━━━━━━━━━━━━━━━━━━━━━━━━━━\u001b[0m \u001b[32m590.6/590.6 kB\u001b[0m \u001b[31m8.1 MB/s\u001b[0m eta \u001b[36m0:00:00\u001b[0m\n",
            "\u001b[?25h"
          ]
        }
      ]
    },
    {
      "cell_type": "markdown",
      "source": [
        "*Menghapus semua karakter emoji, termasuk yang tidak ditangkap oleh regex biasa*"
      ],
      "metadata": {
        "id": "I1DWBn5Vxr6h"
      }
    },
    {
      "cell_type": "code",
      "source": [
        "import emoji\n",
        "import re\n",
        "\n",
        "def clean_text(text):\n",
        "    text = str(text)\n",
        "    text = re.sub(r\"http\\S+|www.\\S+\", \"\", text)         # Hapus URL\n",
        "    text = re.sub(r\"@\\w+\", \"\", text)                    # Hapus mention\n",
        "    text = re.sub(r\"#\\w+\", \"\", text)                    # Hapus hashtag\n",
        "    text = emoji.replace_emoji(text, replace='')        # Hapus emoji dengan library emoji\n",
        "    text = re.sub(r\"\\s+\", \" \", text).strip()            # Hapus spasi berlebih\n",
        "    return text\n",
        "\n",
        "df[\"tweet\"] = df[\"tweet\"].apply(clean_text)\n",
        "\n"
      ],
      "metadata": {
        "id": "wxJJxP61r3Rt"
      },
      "execution_count": null,
      "outputs": []
    },
    {
      "cell_type": "markdown",
      "source": [
        "*menampilkan seluruh isi kolom tweet 5 teratas*"
      ],
      "metadata": {
        "id": "XXDeH9CmzWQ-"
      }
    },
    {
      "cell_type": "code",
      "source": [
        "pd.set_option('display.max_colwidth', None)\n",
        "print(df[\"tweet\"].head(5))"
      ],
      "metadata": {
        "colab": {
          "base_uri": "https://localhost:8080/"
        },
        "id": "9_c67AP8we68",
        "outputId": "6c661f89-8059-4fef-b01e-b09a3ef6afb0"
      },
      "execution_count": null,
      "outputs": [
        {
          "output_type": "stream",
          "name": "stdout",
          "text": [
            "0                     Ada MENU BARU di Ni Boba Brawijaya Waffle EGO &amp; BUNGEOPPANG KOREA Link GrabFood : Link ShopeeFood : Link GoFood : NB : * Customer Service\n",
            "1    Cobain frisco burger. Di daerah pekayon, tp gatau tepatnya di sebelah mana. Soalnya selalu pake gofood/grabfood. Masih jadi yg terbaik di bekasi, menurut saya\n",
            "2                                                                 Pengin nasi uduk, mager jalan. *buka gofood, gojek, shopeefood *mahal Ujungnya jalan beli sendiri\n",
            "3                                                          -Aku gofood in ya biar gausa keluar sendirian sama -Aku udah didepan bawa makanan itu beda guys itu beda\n",
            "4                                                                                  Ih disni banyaaaaaaakk. Tp pas pingin gofood, sajadah depan muka berasa manggil2\n",
            "Name: tweet, dtype: object\n"
          ]
        }
      ]
    },
    {
      "cell_type": "markdown",
      "source": [
        "**Provide customer gofood reviews for classification and test the initial prompt**"
      ],
      "metadata": {
        "id": "u-507kGtHYho"
      }
    },
    {
      "cell_type": "code",
      "source": [
        "sample_reviews = df['tweet'].dropna().head(100).tolist()\n",
        "reviews_text = \"\\n\".join([f\"Review {i+1}: {review}\" for i, review in enumerate(sample_reviews)])\n",
        "\n",
        "prompt = f\"\"\"\n",
        "Klasifikasikan ulasan ini sebagai positif, negatif, atau campuran:\n",
        "\n",
        "{reviews_text}\n",
        "\"\"\"\n",
        "# Panggil model dengan contoh prompt\n",
        "response = output.invoke(prompt)\n",
        "\n",
        "# Print respon\n",
        "print(\"Granite Model Response:\\n\")\n",
        "\n",
        "print(response)\n"
      ],
      "metadata": {
        "colab": {
          "base_uri": "https://localhost:8080/"
        },
        "id": "0q0g4xGSFmoV",
        "outputId": "3bbba47c-fe3f-4987-cafb-dd2b252167f6"
      },
      "execution_count": null,
      "outputs": [
        {
          "output_type": "stream",
          "name": "stdout",
          "text": [
            "Granite Model Response:\n",
            "\n",
            "1. Positif: Review 1 - This review is positive as it informs about a new menu addition at Ni Boba Brawijaya Waffle EGO & Bungeoppang Korea, available through various food delivery platforms.\n",
            "\n",
            "2. Positif: Review 2 - This review is positive as the writer expresses satisfaction with the Frisco burger from a restaurant in Pekaynan, Bekasi, accessible via food delivery apps.\n",
            "\n",
            "3. Mixed: Review 3 - This review is mixed, as the user appreciates the convenience of food delivery apps but finds the prices for nasi uduk too high compared to buying directly.\n",
            "\n",
            "4. Positif: Review 4 - This review is positive as the user humorously shares their experience with GoFood, implying a generally good experience despite minor inconveniences.\n",
            "\n",
            "5. Mixed: Review 5 - This review is mixed, as the user expresses enjoyment of GoFood but feels awkward when the food is delivered right in front of them, making them feel like the food is staring at them.\n",
            "\n",
            "6. Positif: Review 6 - This review is positive as it explains how to split bills on GoFood, convert balances to trusted platforms, and mention potential fees, providing helpful information for users.\n",
            "\n",
            "7. Neutral (Technically Support): Reviews 7, 8, 15, and 18 - These reviews are neutral or support-seeking, as users are asking for help to resolve account issues related to GoFood, GoriDe, and GoCar.\n",
            "\n",
            "8. Positif: Review 9 - This review is positive as it inquires about GoFood delivery costs from Jogja to Taiwan.\n",
            "\n",
            "9. Mixed: Review 10 - This review is mixed, as the user humorously describes comparing food delivery apps to find the best deals, indicating a preference for promotions but also acknowledging the effort involved.\n",
            "\n",
            "10. Positif: Review 11 - This review is positive, as it mentions having leftovers from a previous order and intends to share them using GoFood.\n",
            "\n",
            "11. Positif: Review 12 - This review is positive, as the user humorously recalls a past situation where someone asked for Fast Food recommendations during Ramadan.\n",
            "\n"
          ]
        }
      ]
    },
    {
      "cell_type": "markdown",
      "source": [
        "**Refine the prompt to improve the classification output**"
      ],
      "metadata": {
        "id": "_gdEqlR8Hz53"
      }
    },
    {
      "cell_type": "code",
      "source": [
        "# Menyempurnakan prompt\n",
        "reviews_text = \"\\n\".join([f\"Review {i+1}: {review}\" for i, review in enumerate(sample_reviews)])\n",
        "refined_prompt = f\"\"\"\n",
        "Klasifikasikan ulasan GoFood ini sebagai Positif, Negatif, atau Campuran, dan beri tag pada kategori yang relevan\n",
        "(kualitas makanan, pengalaman pengguna, pembayaran, waktu pengiriman, atau ongkos kirim)\n",
        "{reviews_text}\n",
        "\"\"\"\n",
        "# Panggil model dengan contoh prompt\n",
        "response = output.invoke(refined_prompt)\n",
        "\n",
        "# Print respon\n",
        "print(\"Granite Model Refined Response:\\n\")\n",
        "print(response)"
      ],
      "metadata": {
        "colab": {
          "base_uri": "https://localhost:8080/"
        },
        "id": "yEZzFiiZH4E4",
        "outputId": "98738299-165c-4416-bcb4-9719196ff68e"
      },
      "execution_count": null,
      "outputs": [
        {
          "output_type": "stream",
          "name": "stdout",
          "text": [
            "Granite Model Refined Response:\n",
            "\n",
            "Based on the provided reviews, here's the classification and relevant categories:\n",
            "\n",
            "1. **Positive** - Review 1, 2, 17, 29, 39, 51, 55, 57, 61, 65, 67, 69, 71, 74, 76, 77, 78, 80, 82, 84, 87, 89, 90, 92, 94, 96, 98, 99\n",
            "\n",
            "These reviews express satisfaction with GoFood, mention new menus, recommend specific dishes, praise the convenience, and share positive experiences.\n",
            "\n",
            "2. **Negative** - Review 3, 7, 11, 15, 18, 22, 26, 27, 28, 33, 35, 37, 38, 40, 41, 45, 46, 49, 50, 53, 56, 59, 60, 63, 64, 68, 70, 73, 75, 79, 81, 83, 85, 86, 88, 91, 93, 97\n",
            "\n",
            "These reviews express dissatisfaction, complain about high prices, driver issues, late deliveries, or technical problems. Some also discuss alternatives to GoFood.\n",
            "\n",
            "3. **Mixed** - Review 4, 5, 6, 9, 10, 12, 14, 16, 19, 20, 21, 23, 24, 25, 30, 31, 32, 34, 36, 42, 47, 48, 49, 52, 54, 58, 62, 66, 72, 84, 95\n",
            "\n",
            "These reviews contain a mix of positive and negative sentiments. Some users express appreciation for GoFood's features but also mention concerns or incon\n"
          ]
        }
      ]
    },
    {
      "cell_type": "markdown",
      "source": [
        "**Added details with 2 steps**"
      ],
      "metadata": {
        "id": "16wrlVwRgyh-"
      }
    },
    {
      "cell_type": "code",
      "source": [
        "# Tentukan prompt untuk menyelesaikan tugas dalam 2 langkah\n",
        "multitask_prompt = f\"\"\"\n",
        "Selesaikan tugas dalam 2 langkah.\n",
        "Langkah 1: Klasifikasikan ulasan ini sebagai positif, negatif, atau campuran.\n",
        "Langkah 2: Untuk setiap ulasan, identifikasi kategori yang relevan:\n",
        "kualitas makanan, pengalaman pengguna, pembayaran, waktu pengiriman, atau ongkos kirim\n",
        "\n",
        "{reviews_text}\n",
        "\"\"\"\n",
        "response = output.invoke(multitask_prompt)\n",
        "print(\"Granite Model Response:\\n\")\n",
        "print(response)"
      ],
      "metadata": {
        "colab": {
          "base_uri": "https://localhost:8080/"
        },
        "id": "emR9fluvhA0i",
        "outputId": "ea896eb2-677f-4caa-cc67-2e0403932157"
      },
      "execution_count": null,
      "outputs": [
        {
          "output_type": "stream",
          "name": "stdout",
          "text": [
            "Granite Model Response:\n",
            "\n",
            "**Langkah 1: Klasifikasikan ulasan ini sebagai positif, negatif, atau campuran.**\n",
            "\n",
            "1. Positif: Reviews 1, 2, 17, 29, 43, 51, 55, 57, 61, 65, 67, 71, 74, 76, 77, 79, 84, 86, 88, 90, 92, 94, 96, 98, 99. These reviews express satisfaction with the food delivery service, menu variety, ease of use, or recommend the platform.\n",
            "\n",
            "2. Negatif: Reviews 3, 7, 11, 18, 22, 23, 27, 32, 33, 37, 38, 40, 45, 47, 49, 53, 56, 59, 60, 62, 63, 64, 68, 70, 75, 78, 80, 81, 85, 87, 89, 91, 93, 95, 97, 98. These reviews express dissatisfaction, confusion, or inconvenience with the service, cost, driver behavior, lack of options, technical issues, or promotional problems.\n",
            "\n",
            "3. Campuran (mixed): Reviews 4, 5, 6, 10, 12, 13, 14, 15, 16, 19, 20, 21, 24, 25, 26, 28, 30, 31, 34, 35, 36, 39, 41, 42, 46, 48, 50, 52, 54, 58, 66, 69, 72, 73, 75, 82, 83, 89, 97. These reviews\n"
          ]
        }
      ]
    },
    {
      "cell_type": "code",
      "source": [
        "# Tentukan contoh untuk memandu model\n",
        "formatted_prompt = f\"\"\"\n",
        "Klasifikasikan ulasan ini sebagai Positif, Negatif, atau Campuran, dan beri tag pada kategori yang relevan.\n",
        "Gunakan format ini: - Sentimen: [Sentimen] - Kategori: [Kategori].\n",
        "{reviews_text}\n",
        "\"\"\"\n",
        "# Panggil model dengan prompt\n",
        "response = output.invoke(formatted_prompt)\n",
        "# Print respon\n",
        "print(\"Granite Model Formatted Response:\\n\")\n",
        "print(response)"
      ],
      "metadata": {
        "colab": {
          "base_uri": "https://localhost:8080/"
        },
        "id": "6PElr8wQjpg9",
        "outputId": "ec1a2013-3902-48d8-a0c5-1222d1920b26"
      },
      "execution_count": null,
      "outputs": [
        {
          "output_type": "stream",
          "name": "stdout",
          "text": [
            "Granite Model Formatted Response:\n",
            "\n",
            "- Sentimen: Neutral, Kategori: Food Delivery Service (GoFood)\n",
            "- Sentimen: Positive, Kategori: Food Quality & Recommendation\n",
            "- Sentimen: Neutral, Kategori: Food Delivery Service, Cost Comparison\n",
            "- Sentimen: Neutral, Kategori: Food Delivery Service, Split Bills\n",
            "- Sentimen: Neutral, Kategori: Account Issue, Food Delivery Service\n",
            "- Sentimen: Neutral, Kategori: Multi-purpose Purchasing (GoFood, ShopeeFood, PeduliLindungi, MyPertamina)\n",
            "- Sentimen: Neutral, Kategori: Food Delivery Service, Location Inquiry\n",
            "- Sentimen: Neutral, Kategori: Food Delivery Service, Personal Preference\n",
            "- Sentimen: Positive, Kategori: User Experience, Convenience\n",
            "- Sentimen: Neutral, Kategori: Food Delivery Service, Personal Preference\n",
            "- Sentimen: Neutral, Kategori: Food Delivery Service, Promotions & Vouchers\n",
            "- Sentimen: Neutral, Kategori: Food Delivery Service, Location & Reservation\n",
            "- Sentimen: Positive, Kategori: Food Recommendation, Menu Suggestion\n",
            "- Sentimen: Neutral, Kategori: Food Delivery Service, Personal Preference\n",
            "- Sentimen: Neutral, Kategori: Food Delivery Service, Promotions & Vouchers\n",
            "- Sentimen: Neutral, Kategori: Food Delivery Service, Driver Availability\n",
            "- Sentimen: Neutral, Kategori: Food Delivery Service, Personal Preference\n",
            "- Sentimen: Neutral, Kategori: Food Delivery Service, Personal Preference\n",
            "- Sentimen: Neutral, Kategori: Food Delivery Service, Personal Preference\n",
            "- Sentimen: Neutral, Kategori: Food Delivery Service, Personal Preference\n",
            "- Sentimen: Neutral, Kategori: Food Delivery Service, Personal Preference\n",
            "- Sentimen: Neutral, Kategori: Food Delivery Service, Personal Preference\n",
            "- Sentimen: Neutral, Kategori: Food Delivery Service, Personal Preference\n",
            "- Sentimen: Neutral, Kategori: Food Delivery Service, Personal Preference\n",
            "- Sentimen: Neutral, Kategori: Food Delivery Service, Personal Preference\n",
            "- Sentimen: Neutral, Kategori: Food Delivery Service, Personal Preference\n",
            "- Sentimen: Neutral, Kategori: Food Delivery Service, Personal Preference\n",
            "- Sentimen: Neutral, Kategori: Food Delivery Service, Personal Preference\n",
            "- Sentimen: Neutral\n"
          ]
        }
      ]
    },
    {
      "cell_type": "code",
      "source": [
        "formatted_prompt = f\"\"\"\n",
        "Berikut adalah ulasan pelanggan GoFood.\n",
        "Klasifikasikan ulasan ini sebagai Positif, Negatif, atau Campuran, dan beri tag pada kategori yang relevan.\n",
        "Gunakan format ini: - Sentimen: [Sentimen] - Kategori: [Kategori].\n",
        "\n",
        "Gunakan format ini **untuk setiap review saja** (jangan tulis ulang isi review):\n",
        "\n",
        "Review 1:\n",
        "- Sentimen: ...\n",
        "- Kategori: ...\n",
        "\n",
        "Review 2:\n",
        "- Sentimen: ...\n",
        "- Kategori: ...\n",
        "\n",
        "{reviews_text}\n",
        "\"\"\"\n",
        "\n",
        "response = output.invoke(formatted_prompt)\n",
        "print(\"Granite Model Refined Response:\\n\")\n",
        "print(response)"
      ],
      "metadata": {
        "colab": {
          "base_uri": "https://localhost:8080/"
        },
        "id": "kDENRSgfkkR-",
        "outputId": "94e015f0-b583-43f3-95b9-0502e1de0710"
      },
      "execution_count": null,
      "outputs": [
        {
          "output_type": "stream",
          "name": "stdout",
          "text": [
            "Granite Model Refined Response:\n",
            "\n",
            "Review 1: \n",
            "- Sentimen: Neutral\n",
            "- Kategori: Menu, Promotion\n",
            "\n",
            "Review 2:\n",
            "- Sentimen: Positive\n",
            "- Kategori: Food Quality, Location\n",
            "\n",
            "Review 3:\n",
            "- Sentimen: Negative\n",
            "- Kategori: Pricing, Convenience\n",
            "\n",
            "Review 4:\n",
            "- Sentimen: Neutral\n",
            "- Kategori: Order Process\n",
            "\n",
            "Review 5:\n",
            "- Sentimen: Positive\n",
            "- Kategori: Food Presentation\n",
            "\n",
            "Review 6:\n",
            "- Sentimen: Positive\n",
            "- Kategori: Payment, Split Bill\n",
            "\n",
            "Review 7:\n",
            "- Sentimen: Negative\n",
            "- Kategori: Account Issue, Customer Support\n",
            "\n",
            "Review 8:\n",
            "- Sentimen: Neutral\n",
            "- Kategori: Shopping, Food Delivery\n",
            "\n",
            "Review 9:\n",
            "- Sentimen: Inquiry\n",
            "- Kategori: Delivery Cost, Intercity Delivery\n",
            "\n",
            "Review 10:\n",
            "- Sentimen: Neutral\n",
            "- Kategori: Promotion, Comparative Analysis\n",
            "\n",
            "Review 11:\n",
            "- Sentimen: Negative\n",
            "- Kategori: Account Issue, Customer Support\n",
            "\n",
            "Review 12:\n",
            "- Sentimen: Humorous\n",
            "- Kategori: User Engagement, Random\n",
            "\n",
            "Review 13:\n",
            "- Sentimen: Positive\n",
            "- Kategori: Promotion, Discount\n",
            "\n",
            "Review 14:\n",
            "- Sentimen: Humorous\n",
            "- Kategori: Food Craving, Pop Culture Reference\n",
            "\n",
            "Review 15:\n",
            "- Sentimen: Negative\n",
            "- Kategori: Account Issue, Customer Support\n",
            "\n",
            "Review 16:\n",
            "- Sentimen: Promotional\n",
            "- Kategori: Discount, Minimum Spending\n",
            "\n",
            "Review 17:\n",
            "- Sentimen: Positive\n",
            "- Kategori: Restaurant Information, Contact\n",
            "\n",
            "Review 18:\n",
            "- Sentimen: Negative\n",
            "- Kategori: Account Issue, Customer Support\n",
            "\n",
            "Review 19:\n",
            "- Sentimen: Positive\n",
            "- Kategori: Food Preference\n",
            "\n",
            "Review 20:\n",
            "- Sentimen: Neutral\n",
            "- Kategori: Menu Suggestion\n",
            "\n",
            "Review 21:\n",
            "- Sentimen: Positive\n",
            "- Kategori: Brand Association, Marketing\n",
            "\n",
            "Review 22:\n",
            "- Sentimen: Positive\n",
            "- Kategori: Cost Saving, Budgeting\n",
            "\n",
            "Review 23:\n",
            "- Sentimen: Neutral\n"
          ]
        }
      ]
    },
    {
      "cell_type": "markdown",
      "source": [
        "**SUMMARIZING**\n",
        "\n",
        "Berdasarkan data classification di atas, maka langkah selanjutnya untuk mempermudah membaca data ulasan gofood maka diperlukan ringkasan dengan bahasa yang mudah dipahami juga. Disini diambil 100 ulasan untuk membuat ringkasan."
      ],
      "metadata": {
        "id": "xb_l7DE0qGSP"
      }
    },
    {
      "cell_type": "code",
      "source": [
        "\n",
        "# Mengambil 100 ulasan\n",
        "sample_reviews = df['tweet'].dropna().head(100).tolist()\n",
        "\n",
        "# Menggabungkan ulasan\n",
        "reviews_text = \"\\n\".join([f\"- {review}\" for review in sample_reviews])\n",
        "\n",
        "# Membuat prompt ringkasan\n",
        "summary_prompt = f\"\"\"\n",
        "Buat ringkasan naratif dalam bahasa Indoensia dari kumpulan ulasan pelanggan GoFood berikut ini.\n",
        "Soroti kesan umum, keluhan yang sering muncul, dan hal-hal yang disukai pelanggan:\n",
        "\n",
        "{reviews_text}\n",
        "\"\"\"\n",
        "\n",
        "# Kirim ke model\n",
        "response = output.invoke(summary_prompt)\n",
        "\n",
        "# Print respon\n",
        "print(\"Summary Dataset:\\n\")\n",
        "print(response)\n"
      ],
      "metadata": {
        "colab": {
          "base_uri": "https://localhost:8080/"
        },
        "id": "Tlj4LhFTlcmC",
        "outputId": "50c639d1-10a0-4353-f56e-a2eaf421b6a4"
      },
      "execution_count": null,
      "outputs": [
        {
          "output_type": "stream",
          "name": "stdout",
          "text": [
            "Summary Dataset:\n",
            "\n",
            "**Ringkasan Naratif Pelanggan GoFood:**\n",
            "\n",
            "**Kesan Umum dan Keluhan Sering:**\n",
            "\n",
            "1. **Menu Baru dan Promosi:** Pelanggan menyukai kedatangan menu baru, seperti Ni Boba Brawijaya Waffle EGO & Bungeoppang Korea, dan sering mencari promosi atau diskon.\n",
            "\n",
            "2. **Kelemahan Jangka Panjang:** Beberapa pelanggan mengatakan bahwa GoFood lebih mahal dibandingkan dengan membeli sendiri, khususnya untuk makanan jangka panjang.\n",
            "\n",
            "3. **Teksasnya Pembayaran:** Ada keluhan tentang kesulitan menggunakan voucher atau kode promo, serta masalah dengan ongkir yang dipertimbangkan.\n",
            "\n",
            "4. **Kecurangan Akun:** Terdapat beberapa kasus pelanggan yang mengalami \"soft ban\" atau kesulitan menggunakan akun mereka, yang menyebabkan kekecewaan dan permintaan bantuan.\n",
            "\n",
            "5. **Kualitas Makanan:** Ada komentar positif tentang kualitas makanan dari beberapa restoran tertentu, seperti KFC, Dapur Gudeg Bu Tutie, dan Flash Coffee.\n",
            "\n",
            "6. **Kelemahan Jam Lebih Lalu:** Ada keluhan tentang kesulitan mendapatkan GoFood pada waktu malam atau waktu yang tidak biasa, terutama di beberapa kota.\n",
            "\n",
            "**Hal-Hal yang Disukai Pelanggan:**\n",
            "\n",
            "1. **Fasilitas Split Bill:** Pelanggan menyukai fitur split bill yang memungkinkan mereka berbagi biaya makanan dengan teman.\n",
            "\n",
            "2. **Pilihan Menu Lengkap:** Pelanggan menyukai pilihan menu yang lengkap, termasuk makanan lokal dan internasional, yang membuat mereka mudah memilih.\n",
            "\n",
            "3. **Kemudahan Pengambil\n"
          ]
        }
      ]
    },
    {
      "cell_type": "code",
      "source": [
        "refined_prompt = f\"\"\"\n",
        "Buat ringkasan naratif dalam bahasa Indonesia dari kumpulan ulasan pelanggan GoFood berikut ini.\n",
        "Tulis dalam bentuk paragraf (bukan bullet point).\n",
        "\n",
        "{reviews_text}\n",
        "\"\"\"\n",
        "\n",
        "response = output.invoke(refined_prompt)\n",
        "print(response)"
      ],
      "metadata": {
        "colab": {
          "base_uri": "https://localhost:8080/"
        },
        "id": "LcX2b5kxrIy-",
        "outputId": "7096c8da-52df-4b9b-ef1f-7c6ac2854780"
      },
      "execution_count": null,
      "outputs": [
        {
          "output_type": "stream",
          "name": "stdout",
          "text": [
            "Ringkasan Naratif:\n",
            "\n",
            "Kumpulan ulasan pelanggan GoFood menyampaikan variasi pengalaman mereka saat menggunakan layanan ini. Beberapa ulasan menyebutkan ketersediaan menu baru di restoran tertentu, seperti Ni Boba Brawijaya Waffle dan bungeoppang Korea. Ulasan lainnya membahas pengalaman mereka saat mencari makanan khusus di daerah tertentu, seperti Frisco burger di Pekayanan atau nasi uduk yang mahal jika dibeli secara langsung.\n",
            "\n",
            "Selain itu, ada ulasan yang menunjukkan kemudahan dalam menggunakan GoFood untuk belanja bersama, seperti fitur split bills, dan pilihan pembayaran yang bervariasi, termasuk GoPay, kode promo, dan kemudahan penyetoran saldo ke aplikasi lain. Namun, ada juga komplain tentang akun yang terblokir tanpa alasan jelas dan permintaan bantuan dari pihak GoFood.\n",
            "\n",
            "Beberapa pengguna menyampaikan kesenian mereka terhadap makanan yang diorder melalui GoFood, dari minuman sederhana hingga makanan istimewa seperti ayam geprek, sushi tei, dan hidangan regional seperti krecek dan gudeg. Ada juga ulasan mengenai pengalaman mereka saat makanan diterima dengan kualitas yang berbeda dengan yang diorder.\n",
            "\n",
            "Terdapat juga ulasan yang menyentuh aspek praktis dan kemudahan layanan, misalnya penggunaan GoFood untuk menyelesaikan kebutuhan makan malam saat waktu malam dan mau tidak mau beraktivitas fisik. Namun, ada juga kritik terhadap kebiasaan terlalu bergantung pada layanan makan sederhana sepertu ini, yang dapat menyebabkan keterlambatan dalam keter\n"
          ]
        }
      ]
    },
    {
      "cell_type": "code",
      "source": [
        "\n",
        "# Buat prompt untuk summarization\n",
        "summary_prompt = f\"\"\"\n",
        "Berikut adalah 100 ulasan pelanggan GoFood.\n",
        "Buat ringkasan naratif dalam bahasa Indonesia yang menyampaikan:\n",
        "1. Kesan umum pelanggan terhadap layanan GoFood\n",
        "2. Keluhan yang sering muncul\n",
        "3. Hal-hal yang disukai pelanggan\n",
        "\n",
        "Ulasan:\n",
        "{reviews_text_summary}\n",
        "\"\"\"\n",
        "\n",
        "# Kirim ke model\n",
        "summary_response = output.invoke(summary_prompt)\n",
        "\n",
        "# Tampilkan hasil ringkasan\n",
        "print(\"\\n=== Ringkasan 100 Ulasan dalam Bahasa Indonesia ===\\n\")\n",
        "print(summary_response)\n"
      ],
      "metadata": {
        "colab": {
          "base_uri": "https://localhost:8080/"
        },
        "id": "yqwtZbGv5wGH",
        "outputId": "2d7ec00f-7c73-4ed4-ab8d-19248122bc09"
      },
      "execution_count": null,
      "outputs": [
        {
          "output_type": "stream",
          "name": "stdout",
          "text": [
            "\n",
            "=== Ringkasan 100 Ulasan dalam Bahasa Indonesia ===\n",
            "\n",
            "**Ringkasan Naratif Ulasan Pelanggan GoFood:**\n",
            "\n",
            "1. **Kesan Umum Pelanggan Terhadap Layanan GoFood:**\n",
            "   - Pelanggan senang dengan kemudahan layanan GoFood dalam membeli makanan dari restoran berbeda, terutama ketika mereka tidak ingin keluar sendirian.\n",
            "   - Ada kesulitan dalam mendapatkan promosi atau diskon yang berkembang.\n",
            "   - Beberapa pelanggan mengalami masalah dengan akun mereka, terutama dalam mendapatkan voucher atau kode promo.\n",
            "\n",
            "2. **Keluhan yang Sering Muncul:**\n",
            "   - Masalah dengan ongkir yang mahal, terutama untuk makanan yang diorder ke jauh.\n",
            "   - Tidak ada fitur split bills secara umum di beberapa restoran, menyebabkan pelanggan harus bayar secara terpisah.\n",
            "   - Ada keluhan tentang kualitas makanan yang diterima, terutama ketika makanan tidak seperti yang diharapkan.\n",
            "   - Pelanggan mengalami kesulitan dalam mendapatkan jaminan pelayanan yang baik, terutama pada waktu malam.\n",
            "\n",
            "3. **Hal-hal yang Disukai Pelanggan:**\n",
            "   - Pilihan menu yang sangat variatif dan banyak, termasuk makanan khusus dan snack.\n",
            "   - Kemudahan untuk mencari promosi dan diskon, khususnya di aplikasi GoFood.\n",
            "   - Fitur \"split bills\" yang memungkinkan pelanggan untuk bagi-bagi biaya makanan dengan teman.\n",
            "   - Pelayanan cepat, terutama ketika makanan diambil langsung oleh pembawa.\n",
            "   - Pelanggan menyukai kemudahan dalam dapat mencari dan mengelola order melalui aplikasi yang user-friendly.\n",
            "\n",
            "### Kesimpulan:\n",
            "Pelanggan GoFood umumnya menghargai kemudahan dan kesesuaian layanan\n"
          ]
        }
      ]
    },
    {
      "cell_type": "code",
      "source": [
        "summary_prompt = f\"\"\"\n",
        "Buatlah ringkasan dalam bahasa Indonesia dari ulasan-ulasan pelanggan GoFood dan\n",
        "tuliskan hasilnya dalam 3 bagian, masing-masing **berupa bullet poin**:\n",
        "1. Kesan umum pelanggan terhadap layanan GoFood\n",
        "2. Keluhan yang sering muncul\n",
        "3. Hal-hal yang disukai pelanggan\n",
        "\n",
        "Tulis dengan rapi dalam format:\n",
        "**Kesan umum pelanggan terhadap layanan GoFood**\n",
        "**Keluhan yang sering muncul**\n",
        "**Hal-hal yang disukai pelanggan**\n",
        "\n",
        "\n",
        "{reviews_text}\n",
        "\"\"\"\n",
        "\n",
        "response = output.invoke(summary_prompt)\n",
        "print(response)"
      ],
      "metadata": {
        "colab": {
          "base_uri": "https://localhost:8080/"
        },
        "id": "ALXgedn9ra73",
        "outputId": "09c0562f-cea0-4fe2-c5e5-96aa62d55821"
      },
      "execution_count": null,
      "outputs": [
        {
          "output_type": "stream",
          "name": "stdout",
          "text": [
            "**Kesan umum pelanggan terhadap layanan GoFood**\n",
            "\n",
            "- Pelanggan menyukai kemudahan dan kesesuaian menu yang bervariasi.\n",
            "- Beberapa pelanggan mengungkapkan strategi untuk menjimatkan biaya makan dengan menggunakan promo dan kode voucher.\n",
            "- Ada keluhan tentang keterbatasan waktu pembayaran BPJS melalui aplikasi GoFood.\n",
            "\n",
            "**Keluhan yang sering muncul**\n",
            "\n",
            "- **Keterbatasan menu dan harga yang mahal**: Pelanggan mengatakan bahwa beberapa restoran yang terdaftar di GoFood memiliki harga yang lebih tinggi dibandingkan pemasaran mereka.\n",
            "- **Masalah pembayaran dan kode promo**: Pelanggan mengalami kesulitan dalam menggunakan kode promo dan voucher, dan ada yang ditangkap oleh sistem soft-banned.\n",
            "- **Kualitas layanan dan driver**: Ada keluhan tentang kualitas layanan yang tidak consistent, serta driver yang tidak mau bekerja pada waktu tertentu.\n",
            "- **Ongkir yang tidak sehati**: Ada keluhan tentang ongkir yang dikenakan tidak sesuai dengan jangka waktu dan jarak yang diambil.\n",
            "\n",
            "**Hal-hal yang disukai pelanggan**\n",
            "\n",
            "- **Kemudahan dan kecepatan**: GoFood dikenal karena kemudahan dalam pesan dan pengambilan makanan dengan cepat.\n",
            "- **Pilihan menu yang luas**: Pelanggan menyukai banyak pilihan menu yang tersedia di aplikasi, termasuk makanan tradisional dan internasional.\n",
            "- **Promosi dan diskon**: Pelanggan menyukai berbagai promosi dan diskon yang tersedia, seperti kode promo, voucher, dan split bills.\n",
            "- **Fungsi tracking order**: Pelanggan menyukai fungsi tracking order yang mudah dan transparan, memudahkan mereka melihat status pesanan mereka\n"
          ]
        }
      ]
    },
    {
      "cell_type": "code",
      "source": [
        "summary_prompt = f\"\"\"\n",
        "Berikut ini adalah kumpulan ringkasan insight dari ulasan pelanggan GoFood:\n",
        "\n",
        "{reviews_text}\n",
        "\n",
        "Berdasarkan ringkasan tersebut, buatlah evaluasi dengan format sebagai berikut:\n",
        "\n",
        "- **Kategori**: [tuliskan tema utama atau masalah yang diangkat]\n",
        "- **Evaluasi & Rekomendasi**: [berikan evaluasi singkat dan rekomendasi konkret untuk perbaikan atau penguatan layanan]\n",
        "\n",
        "Berikan 2 poin evaluasi yang mencakup kekuatan dan kelemahan layanan GoFood.\n",
        "Tulis dalam bahasa Indonesia yang jelas dan profesional.\n",
        "\"\"\"\n",
        "\n",
        "response = output.invoke(summary_prompt)\n",
        "print(response)\n",
        "\n",
        "# Menyimpan hasil ke file agar tidak hilang atau terpotong\n",
        "with open(\"evaluasi_gofeed.txt\", \"w\", encoding=\"utf-8\") as f:\n",
        "    f.write(response)\n"
      ],
      "metadata": {
        "colab": {
          "base_uri": "https://localhost:8080/"
        },
        "id": "15cGd7cqMN30",
        "outputId": "152d2702-6c1b-4145-c8b6-0867f83e4f39"
      },
      "execution_count": null,
      "outputs": [
        {
          "output_type": "stream",
          "name": "stdout",
          "text": [
            "### Evaluasi & Rekomendasi\n",
            "\n",
            "#### Kategori 1: Menu & Pilihan Makanan\n",
            "**Kekuatan:**\n",
            "- GoFood menawarkan berbagai pilihan menu dari berbagai jenis makanan, termasuk makanan tradisional hingga makanan internasional.\n",
            "- Ada pilihan khusus untuk acara tertentu, seperti pesan untuk nonton MV BTS atau makan krecek dan gudeg di Dapur Gudeg Bu Tutie.\n",
            "\n",
            "**Kelemahan:**\n",
            "- Beberapa pelanggan menyebutkan kesulitan mendapatkan promosi atau voucher yang valid, yang dapat menurunkan kepuasan pelanggan.\n",
            "- Keterbatasan menu di beberapa wilayah, seperti di Padang malam jam 10, ketika semua restoran tersebut tidak menerima order.\n",
            "\n",
            "**Rekomendasi:**\n",
            "- GoFood harus memperhatikan dan meningkatkan sistem promosi dan voucher agar lebih terjangkau dan berlaku dengan lancar.\n",
            "- Pengelolaan menu harus diperhatikan untuk memastikan ada pilihan makanan di setiap wilayah dan waktu.\n",
            "\n",
            "#### Kategori 2: Kualitas Layanan & Pembayaran\n",
            "**Kekuatan:**\n",
            "- Pelayanan cepat dan efisien, dengan waktu pengambilan makanan relatif singkat.\n",
            "- Fleksibilitas pembayaran, termasuk opsi pembayaran cash, digital wallet, dan kartu kredit.\n",
            "\n",
            "**Kelemahan:**\n",
            "- Beberapa pelanggan mengalami kesulitan dengan sistem pembayaran, misalnya ketika driver tidak sesuai metode pembayaran atau ketika mereka lupa untuk mengubah metode pembayaran.\n",
            "- Ada komplain tentang kualitas pengambilan makanan, seperti makanan yang tidak sesuai dengan foto atau harga yang lebih tinggi dibandingkan dengan harga di restoran\n"
          ]
        }
      ]
    },
    {
      "cell_type": "code",
      "source": [
        "# Menyimpan hasil evaluasi dan rekomendasi ke file txt\n",
        "with open(\"evaluasi_gofod_final.txt\", \"w\", encoding='utf-8') as file:\n",
        "    file.write(response)  # response = hasil dari output.invoke()\n",
        "\n",
        "from google.colab import files\n",
        "files.download(\"evaluasi_gofod_final.txt\")\n",
        "\n"
      ],
      "metadata": {
        "colab": {
          "base_uri": "https://localhost:8080/",
          "height": 17
        },
        "id": "BZM3gSxDNtP_",
        "outputId": "2607e545-57ae-420c-bf40-4908ed976620"
      },
      "execution_count": null,
      "outputs": [
        {
          "output_type": "display_data",
          "data": {
            "text/plain": [
              "<IPython.core.display.Javascript object>"
            ],
            "application/javascript": [
              "\n",
              "    async function download(id, filename, size) {\n",
              "      if (!google.colab.kernel.accessAllowed) {\n",
              "        return;\n",
              "      }\n",
              "      const div = document.createElement('div');\n",
              "      const label = document.createElement('label');\n",
              "      label.textContent = `Downloading \"${filename}\": `;\n",
              "      div.appendChild(label);\n",
              "      const progress = document.createElement('progress');\n",
              "      progress.max = size;\n",
              "      div.appendChild(progress);\n",
              "      document.body.appendChild(div);\n",
              "\n",
              "      const buffers = [];\n",
              "      let downloaded = 0;\n",
              "\n",
              "      const channel = await google.colab.kernel.comms.open(id);\n",
              "      // Send a message to notify the kernel that we're ready.\n",
              "      channel.send({})\n",
              "\n",
              "      for await (const message of channel.messages) {\n",
              "        // Send a message to notify the kernel that we're ready.\n",
              "        channel.send({})\n",
              "        if (message.buffers) {\n",
              "          for (const buffer of message.buffers) {\n",
              "            buffers.push(buffer);\n",
              "            downloaded += buffer.byteLength;\n",
              "            progress.value = downloaded;\n",
              "          }\n",
              "        }\n",
              "      }\n",
              "      const blob = new Blob(buffers, {type: 'application/binary'});\n",
              "      const a = document.createElement('a');\n",
              "      a.href = window.URL.createObjectURL(blob);\n",
              "      a.download = filename;\n",
              "      div.appendChild(a);\n",
              "      a.click();\n",
              "      div.remove();\n",
              "    }\n",
              "  "
            ]
          },
          "metadata": {}
        },
        {
          "output_type": "display_data",
          "data": {
            "text/plain": [
              "<IPython.core.display.Javascript object>"
            ],
            "application/javascript": [
              "download(\"download_6432571c-dc33-4ea9-a878-3c2b5a7ec85b\", \"evaluasi_gofod_final.txt\", 1606)"
            ]
          },
          "metadata": {}
        }
      ]
    },
    {
      "cell_type": "markdown",
      "source": [
        "*Conclusion*\n",
        "\n",
        "Berdasarkan hasil analisis ulasan pelanggan, dapat disimpulkan bahwa layanan GoFood secara umum mendapat tanggapan positif, terutama dalam hal variasi menu dan program promosi. Namun, masih terdapat sejumlah tantangan yang perlu menjadi perhatian, seperti perbaikan sistem pembayaran, peningkatan aksesibilitas restoran, serta penyempurnaan fitur-fitur layanan untuk menghindari pengalaman negatif. Sebagai data analyst, temuan ini dapat menjadi dasar rekomendasi strategis bagi manajemen dalam mengambil keputusan berbasis data untuk meningkatkan kualitas layanan dan kepuasan pelanggan secara berkelanjutan."
      ],
      "metadata": {
        "id": "ajZN59FVt3ed"
      }
    }
  ]
}